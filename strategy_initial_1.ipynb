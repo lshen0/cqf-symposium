{
 "cells": [
  {
   "cell_type": "code",
   "execution_count": 204,
   "id": "942a7455-acf3-44ca-bb59-8915d5d888d8",
   "metadata": {},
   "outputs": [],
   "source": [
    "import numpy as np\n",
    "import pandas as pd\n",
    "import yfinance as yf"
   ]
  },
  {
   "cell_type": "markdown",
   "id": "6ea49882-a3bb-4d3d-81a7-4e3ea35d75f1",
   "metadata": {},
   "source": [
    "## Read in and clean TikTok data"
   ]
  },
  {
   "cell_type": "code",
   "execution_count": null,
   "id": "37648161-0e81-421d-a1d2-dfa37c79a3d1",
   "metadata": {},
   "outputs": [],
   "source": [
    "df = pd.read_csv(\"athleisure.csv\")\n",
    "\n",
    "# Add a column for diggs-to-plays ratio\n",
    "df['diggCount/playCount'] = df['diggCount'] / df['playCount']\n",
    "\n",
    "# Keep only the following columns; delete all other columns\n",
    "df = df[['createTimeISO','diggCount', 'playCount', 'diggCount/playCount', 'shareCount', 'commentCount', 'videoMeta/duration']]\n",
    "\n",
    "# df['means'] = df[['diggCount', 'shareCount', 'playCount', 'commentCount', 'videoMeta/duration']].mean(axis=1)\n",
    "\n",
    "# Sort by time\n",
    "df = df.sort_values(by='createTimeISO')\n",
    "\n",
    "df"
   ]
  },
  {
   "cell_type": "markdown",
   "id": "86a0b1a5-e18a-4cc6-99a6-4e17b6d9ec30",
   "metadata": {},
   "source": [
    "## Get and clean stock data"
   ]
  },
  {
   "cell_type": "code",
   "execution_count": null,
   "id": "7b147867-c00a-4d72-a40f-09732989e490",
   "metadata": {},
   "outputs": [],
   "source": [
    "# Get prices of specified stock for each day\n",
    "ticker = \"LULU\"\n",
    "data = yf.Ticker(ticker)\n",
    "prices = data.history(start = '2019-10-01', end = '2024-11-16') # can change time interval; prices is a dataframe\n",
    "prices"
   ]
  },
  {
   "cell_type": "markdown",
   "id": "567bb5d9-c98a-4a7f-8fa4-d62bac257c9b",
   "metadata": {},
   "source": [
    "## Merging data"
   ]
  },
  {
   "cell_type": "code",
   "execution_count": null,
   "id": "98f1fdea-cdc9-4dfc-94f3-9b563dc3fb28",
   "metadata": {},
   "outputs": [],
   "source": [
    "# Get y-m-d date of TikTok dataframe\n",
    "df['createTimeISO'] = pd.to_datetime(df['createTimeISO'])\n",
    "df['date'] = df['createTimeISO'].dt.strftime('%Y-%m-%d')\n",
    "\n",
    "# Create cleaned_df with select columns of TikTok data\n",
    "cleaned_df = df[['date', 'diggCount', 'playCount', 'diggCount/playCount']]\n",
    "\n",
    "# Create aggregated_df, aggregating the metadata for videos made on the same day.\n",
    "# Ex:\n",
    "# date                  diggCount\n",
    "# 2019-11-01            200\n",
    "# 2019-11-01            150\n",
    "# will become:\n",
    "# date                  diggCount\n",
    "# 2019-11-01            350\n",
    "aggregated_df = cleaned_df.groupby('date', as_index = False)[['diggCount', 'playCount', 'diggCount/playCount']].sum()\n",
    "\n",
    "aggregated_df\n",
    "\n",
    "# Reset indices of `prices`, dropping old indices. Keep only the date in the `Date` column of the prices dataframe\n",
    "prices.reset_index(inplace=True)\n",
    "\n",
    "\n",
    "# print(cleaned_df.head(5))\n",
    "# print(prices.head(5))\n",
    "\n",
    "# print(\"cleaned_df dtypes: \\n\" + cleaned_df.dtypes)\n",
    "# print(\"prices dtypes: \\n\" + prices.dtypes)\n",
    "\n",
    "\n",
    "# Merge `cleaned_df` and `prices`, based on dates (use inner merge - only include data that is common to both dataframes)\n",
    "merged_df = pd.merge(\n",
    "    aggregated_df,\n",
    "    prices[['Date', 'Close']],\n",
    "    left_on = pd.to_datetime(aggregated_df['date']).dt.date,\n",
    "    right_on = pd.to_datetime(prices['Date']).dt.date,\n",
    "    how = 'inner'\n",
    "    )\n",
    "\n",
    "# Only keep relevant columns (use closing prices of stock for now)\n",
    "merged_df = merged_df[['date', 'diggCount', 'playCount', 'diggCount/playCount', 'Close']]\n",
    "\n",
    "# Calculate percentage change in diggCount/playCount \n",
    "merged_df['change'] = merged_df['diggCount/playCount'].pct_change()\n",
    "\n",
    "merged_df"
   ]
  },
  {
   "cell_type": "markdown",
   "id": "cdf12f6e-630a-447d-a0cf-85426345bad6",
   "metadata": {},
   "source": [
    "## Strategy (daily)"
   ]
  },
  {
   "cell_type": "code",
   "execution_count": 208,
   "id": "2f237d69-c3c7-41db-9adf-cc136877ae35",
   "metadata": {},
   "outputs": [],
   "source": [
    "class Strategy:\n",
    "    def __init__(self, data, balance = 1000000):\n",
    "        self.data = data\n",
    "        self.balance = balance\n",
    "        self.shares = 0\n",
    "        self.transactions = 0\n",
    "\n",
    "    # Helper function that gets bid/ask price\n",
    "    def get_price(self, date):\n",
    "        row = self.data[self.data['date'] == date]\n",
    "        if not row.empty:\n",
    "            return row['Close'].values[0]\n",
    "        else:\n",
    "            return None\n",
    "            \n",
    "\n",
    "    # Buy as many shares as possible with remaining balance\n",
    "    def buy(self, date):\n",
    "        if self.balance > 0:\n",
    "            bid = self.get_price(date)\n",
    "            self.shares = self.balance / bid \n",
    "            print(f\"Bought {self.shares} shares at {bid} \\n Balance: {self.balance}    Shares: {self.shares}\")\n",
    "            self.balance = 0\n",
    "            self.transactions += 1\n",
    "        else:\n",
    "            print(\"Balance too low to buy\") \n",
    "\n",
    "    # Sell as many shares as possible given ask pricce\n",
    "    def sell(self, date):\n",
    "        if self.shares > 0:\n",
    "            ask = self.get_price(date)\n",
    "            self.balance += self.shares * ask\n",
    "            print(f\"Sold {self.shares} shares at {ask} \\n Balance: {self.balance}    Shares: {self.shares}\")\n",
    "            self.shares = 0\n",
    "            self.transactions += 1\n",
    "        else:\n",
    "            print(\"No shares to sell\") \n",
    "            \n",
    "    # Compare change \n",
    "    def run(self):\n",
    "        # Iterate through each row in `data` and print the date, followed by the action taken (buy/sell) and the results\n",
    "        for i in range(1, len(self.data)): \n",
    "            # Print date\n",
    "            print(self.data['date'].iloc[i], end = \": \")\n",
    "\n",
    "            # If the change in diggCount/playCount is larger than 5 (arbitrarily set)\n",
    "            if self.data['change'].iloc[i] > 5.0:\n",
    "                self.buy(self.data['date'].iloc[i])\n",
    "            else:\n",
    "                self.sell(self.data['date'].iloc[i])\n",
    "            \n",
    "        print(f\"Ending balance: {self.balance}\")\n",
    "        print(f\"Ending shares: {self.shares}\")\n",
    "        print(f\"Number of transactions: {self.transactions}\")"
   ]
  },
  {
   "cell_type": "markdown",
   "id": "80bd55c6-5db6-4bba-b2b3-990a4dbc5e52",
   "metadata": {},
   "source": [
    "## Run strategy"
   ]
  },
  {
   "cell_type": "code",
   "execution_count": null,
   "id": "085df2b4-e20c-4b9f-ae4c-5127e8555485",
   "metadata": {},
   "outputs": [],
   "source": [
    "strategy = Strategy(merged_df, balance = 1000000)\n",
    "strategy.run()"
   ]
  },
  {
   "cell_type": "markdown",
   "id": "4126c1be-306a-4e41-a61f-e2ce9438f47e",
   "metadata": {},
   "source": [
    "## Notes\n",
    "problems: scraper is weird, percent change calculation is off bc we don't have data every day (jumps multiple days), etc\n",
    "modifications: set different thresholds for when to buy/sell, set diff amounts for buying/selling, transaction fee (?)"
   ]
  }
 ],
 "metadata": {
  "kernelspec": {
   "display_name": "Python 3 (ipykernel)",
   "language": "python",
   "name": "python3"
  },
  "language_info": {
   "codemirror_mode": {
    "name": "ipython",
    "version": 3
   },
   "file_extension": ".py",
   "mimetype": "text/x-python",
   "name": "python",
   "nbconvert_exporter": "python",
   "pygments_lexer": "ipython3",
   "version": "3.12.7"
  }
 },
 "nbformat": 4,
 "nbformat_minor": 5
}
